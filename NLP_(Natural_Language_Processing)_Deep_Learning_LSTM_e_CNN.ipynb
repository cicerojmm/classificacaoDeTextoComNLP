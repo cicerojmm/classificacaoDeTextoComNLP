{
  "nbformat": 4,
  "nbformat_minor": 0,
  "metadata": {
    "kernelspec": {
      "name": "python3",
      "display_name": "Python 3"
    },
    "language_info": {
      "codemirror_mode": {
        "name": "ipython",
        "version": 3
      },
      "file_extension": ".py",
      "mimetype": "text/x-python",
      "name": "python",
      "nbconvert_exporter": "python",
      "pygments_lexer": "ipython3",
      "version": "3.6.6"
    },
    "colab": {
      "name": "NLP (Natural Language Processing) - Deep Learning - LSTM e CNN.ipynb",
      "provenance": [],
      "machine_shape": "hm"
    },
    "accelerator": "GPU"
  },
  "cells": [
    {
      "cell_type": "markdown",
      "metadata": {
        "id": "svFabeP3_S42",
        "colab_type": "text"
      },
      "source": [
        "### Problema\n",
        "\n",
        "\n",
        "Uma revista precisa catalogar todas as suas notícias em diferentes categorias. O objetivo desta competição é desenvolver o melhor modelo de aprendizagem profunda para prever a categoria de novas notícias.\n",
        "\n",
        "\n",
        "<img src=\"https://s3-ap-south-1.amazonaws.com/av-blog-media/wp-content/uploads/2018/04/Untitled-Diagram.png\n",
        "\" style=\"width: 400px;\"/>\n",
        "\n",
        "\n",
        "As categorias possíveis são:\n",
        "\n",
        "* ambiente\n",
        "* equilibrioesaude\n",
        "* sobretudo\n",
        "* educacao\n",
        "* ciencia\n",
        "* tec\n",
        "* turismo\n",
        "* empreendedorsocial\n",
        "* comida"
      ]
    },
    {
      "cell_type": "code",
      "metadata": {
        "id": "noc9KMq4t7hK",
        "colab_type": "code",
        "outputId": "6828c553-b32f-44a4-e05a-4f3edc3e279c",
        "colab": {
          "base_uri": "https://localhost:8080/",
          "height": 34
        }
      },
      "source": [
        "!pip install unidecode"
      ],
      "execution_count": 6,
      "outputs": [
        {
          "output_type": "stream",
          "text": [
            "Requirement already satisfied: unidecode in /usr/local/lib/python3.6/dist-packages (1.1.1)\n"
          ],
          "name": "stdout"
        }
      ]
    },
    {
      "cell_type": "code",
      "metadata": {
        "_cell_guid": "b1076dfc-b9ad-4769-8c92-a6c4dae69d19",
        "_uuid": "8f2839f25d086af736a60e9eeb907d3b93b6e0e5",
        "id": "czN2HpbqnHRC",
        "colab_type": "code",
        "outputId": "823b0fff-16a6-4bd0-e1d9-e114f5fc3d37",
        "colab": {
          "base_uri": "https://localhost:8080/",
          "height": 34
        }
      },
      "source": [
        "import numpy as np # linear algebra\n",
        "import pandas as pd # data processing, CSV file I/O (e.g. pd.read_csv)\n",
        "import os\n",
        "import requests\n",
        "from unidecode import unidecode\n",
        "import re\n",
        "print(os.listdir(\".\"))"
      ],
      "execution_count": 7,
      "outputs": [
        {
          "output_type": "stream",
          "text": [
            "['.config', 'train.csv', 'sample_data']\n"
          ],
          "name": "stdout"
        }
      ]
    },
    {
      "cell_type": "code",
      "metadata": {
        "_cell_guid": "79c7e3d0-c299-4dcb-8224-4455121ee9b0",
        "_uuid": "d629ff2d2480ee46fbb7e2d37f6b5fab8052498a",
        "id": "WZPxE369nHRj",
        "colab_type": "code",
        "colab": {}
      },
      "source": [
        "import numpy as np\n",
        "import pandas as pd\n",
        "import seaborn as sns\n",
        "import warnings\n",
        "import matplotlib\n",
        "import matplotlib.pyplot as plt\n",
        "\n",
        "%matplotlib inline\n",
        "\n",
        "sns.set(style=\"ticks\")\n",
        "warnings.filterwarnings(\"ignore\")"
      ],
      "execution_count": 0,
      "outputs": []
    },
    {
      "cell_type": "code",
      "metadata": {
        "id": "Tq_YRdltnHRt",
        "colab_type": "code",
        "colab": {}
      },
      "source": [
        "# Bibliotecas do keras\n",
        "import keras\n",
        "from keras.models import Model\n",
        "from keras.layers import *\n",
        "from keras.optimizers import *\n",
        "from keras.losses import *\n",
        "from keras.regularizers import *\n",
        "from keras.models import Sequential\n",
        "from keras.callbacks import *\n",
        "from keras.preprocessing import sequence\n",
        "from keras.preprocessing.sequence import pad_sequences\n",
        "from keras.preprocessing.text import Tokenizer\n",
        "from keras.layers.embeddings import Embedding\n",
        "from sklearn.model_selection import train_test_split"
      ],
      "execution_count": 0,
      "outputs": []
    },
    {
      "cell_type": "markdown",
      "metadata": {
        "id": "NVda4Sw-nHR1",
        "colab_type": "text"
      },
      "source": [
        "# Leitura do dataset de treinamento"
      ]
    },
    {
      "cell_type": "code",
      "metadata": {
        "id": "25sRTuwnnHR5",
        "colab_type": "code",
        "outputId": "bcf6d907-bdd9-4f61-8010-81209e9805c4",
        "colab": {
          "base_uri": "https://localhost:8080/",
          "height": 224
        }
      },
      "source": [
        "# Leitura do Dataset\n",
        "df = pd.read_csv('train.csv')\n",
        "print(df.shape)\n",
        "df.head()"
      ],
      "execution_count": 10,
      "outputs": [
        {
          "output_type": "stream",
          "text": [
            "(7894, 4)\n"
          ],
          "name": "stdout"
        },
        {
          "output_type": "execute_result",
          "data": {
            "text/html": [
              "<div>\n",
              "<style scoped>\n",
              "    .dataframe tbody tr th:only-of-type {\n",
              "        vertical-align: middle;\n",
              "    }\n",
              "\n",
              "    .dataframe tbody tr th {\n",
              "        vertical-align: top;\n",
              "    }\n",
              "\n",
              "    .dataframe thead th {\n",
              "        text-align: right;\n",
              "    }\n",
              "</style>\n",
              "<table border=\"1\" class=\"dataframe\">\n",
              "  <thead>\n",
              "    <tr style=\"text-align: right;\">\n",
              "      <th></th>\n",
              "      <th>article_id</th>\n",
              "      <th>title</th>\n",
              "      <th>text</th>\n",
              "      <th>category</th>\n",
              "    </tr>\n",
              "  </thead>\n",
              "  <tbody>\n",
              "    <tr>\n",
              "      <th>0</th>\n",
              "      <td>8409</td>\n",
              "      <td>Muralha de Lisboa é rota arqueológica com mais...</td>\n",
              "      <td>O urbanismo anárquico dos bairros mais antigos...</td>\n",
              "      <td>turismo</td>\n",
              "    </tr>\n",
              "    <tr>\n",
              "      <th>1</th>\n",
              "      <td>5714</td>\n",
              "      <td>Endeavor lança mapa inédito sobre negócios soc...</td>\n",
              "      <td>As empresas sociais mostraram que é possível u...</td>\n",
              "      <td>empreendedorsocial</td>\n",
              "    </tr>\n",
              "    <tr>\n",
              "      <th>2</th>\n",
              "      <td>9263</td>\n",
              "      <td>Falta de neve no Chile atrasa abertura de esta...</td>\n",
              "      <td>Ao menos quatro estações de esqui no centro do...</td>\n",
              "      <td>turismo</td>\n",
              "    </tr>\n",
              "    <tr>\n",
              "      <th>3</th>\n",
              "      <td>2649</td>\n",
              "      <td>Gravidez causa mudanças no cérebro das mulheres</td>\n",
              "      <td>A gravidez provoca mudanças físicas \"duradoura...</td>\n",
              "      <td>ciencia</td>\n",
              "    </tr>\n",
              "    <tr>\n",
              "      <th>4</th>\n",
              "      <td>6698</td>\n",
              "      <td>Facebook provoca erros em aplicativo para test...</td>\n",
              "      <td>Alguma vez você já ouviu a frase \"o Facebook e...</td>\n",
              "      <td>tec</td>\n",
              "    </tr>\n",
              "  </tbody>\n",
              "</table>\n",
              "</div>"
            ],
            "text/plain": [
              "   article_id  ...            category\n",
              "0        8409  ...             turismo\n",
              "1        5714  ...  empreendedorsocial\n",
              "2        9263  ...             turismo\n",
              "3        2649  ...             ciencia\n",
              "4        6698  ...                 tec\n",
              "\n",
              "[5 rows x 4 columns]"
            ]
          },
          "metadata": {
            "tags": []
          },
          "execution_count": 10
        }
      ]
    },
    {
      "cell_type": "markdown",
      "metadata": {
        "id": "yVA5v-sgnHSB",
        "colab_type": "text"
      },
      "source": [
        "Todos os artigos contêm o título e a descrição. Por último a categoria que pertence esse artigo."
      ]
    },
    {
      "cell_type": "code",
      "metadata": {
        "id": "LrICDkVpnHSD",
        "colab_type": "code",
        "colab": {}
      },
      "source": [
        "# Definição de alguns parâmetros dos modelos e tokenização\n",
        "\n",
        "# Tamanho da sequencia\n",
        "seq_size     = 1000\n",
        "\n",
        "# Máximo de tokens \n",
        "max_tokens   = 7000\n",
        "\n",
        "# Tamanho do embedding\n",
        "embed_dim    = 128"
      ],
      "execution_count": 0,
      "outputs": []
    },
    {
      "cell_type": "markdown",
      "metadata": {
        "id": "ZC-IsSEJnHSL",
        "colab_type": "text"
      },
      "source": [
        "Iremos utilizar o titulo para o nosso modelo baseline. O processo abaixo cria o input da nossa rede e prepara o target."
      ]
    },
    {
      "cell_type": "code",
      "metadata": {
        "id": "OoToyA7swKWO",
        "colab_type": "code",
        "outputId": "139ba955-dc12-4e54-edff-733027fdf579",
        "colab": {
          "base_uri": "https://localhost:8080/",
          "height": 86
        }
      },
      "source": [
        "import nltk \n",
        "nltk.download('punkt')\n",
        "nltk.download('stopwords')\n",
        "from nltk.corpus import stopwords\n",
        "from urllib.parse import urlparse\n",
        "from nltk import word_tokenize"
      ],
      "execution_count": 12,
      "outputs": [
        {
          "output_type": "stream",
          "text": [
            "[nltk_data] Downloading package punkt to /root/nltk_data...\n",
            "[nltk_data]   Unzipping tokenizers/punkt.zip.\n",
            "[nltk_data] Downloading package stopwords to /root/nltk_data...\n",
            "[nltk_data]   Unzipping corpora/stopwords.zip.\n"
          ],
          "name": "stdout"
        }
      ]
    },
    {
      "cell_type": "code",
      "metadata": {
        "id": "biz2CxOavykl",
        "colab_type": "code",
        "outputId": "e1c9fd57-e03f-4722-a3f2-7d990a410ace",
        "colab": {
          "base_uri": "https://localhost:8080/",
          "height": 52
        }
      },
      "source": [
        "import nltk \n",
        "nltk.download('rslp')\n",
        "from nltk.stem import RSLPStemmer"
      ],
      "execution_count": 13,
      "outputs": [
        {
          "output_type": "stream",
          "text": [
            "[nltk_data] Downloading package rslp to /root/nltk_data...\n",
            "[nltk_data]   Unzipping stemmers/rslp.zip.\n"
          ],
          "name": "stdout"
        }
      ]
    },
    {
      "cell_type": "code",
      "metadata": {
        "id": "ErI4B3IRqeSu",
        "colab_type": "code",
        "outputId": "c8568f3f-8e93-44d2-85f4-51a64f3335a8",
        "colab": {
          "base_uri": "https://localhost:8080/",
          "height": 52
        }
      },
      "source": [
        "from nltk.stem import WordNetLemmatizer\n",
        "nltk.download('wordnet')\n",
        "from nltk.tokenize import word_tokenize"
      ],
      "execution_count": 14,
      "outputs": [
        {
          "output_type": "stream",
          "text": [
            "[nltk_data] Downloading package wordnet to /root/nltk_data...\n",
            "[nltk_data]   Unzipping corpora/wordnet.zip.\n"
          ],
          "name": "stdout"
        }
      ]
    },
    {
      "cell_type": "code",
      "metadata": {
        "id": "5BZ_3hthnHSN",
        "colab_type": "code",
        "colab": {}
      },
      "source": [
        "tokenizer    = Tokenizer(num_words=max_tokens, split=' ')\n",
        "\n",
        "def pre_processamento_texto(text):\n",
        "  # Transforma o texto em números\n",
        "  tokenizer.fit_on_texts(np.asarray(text))\n",
        "  X = tokenizer.texts_to_sequences(np.asarray(text))  \n",
        "  return pad_sequences(X, maxlen=seq_size)"
      ],
      "execution_count": 0,
      "outputs": []
    },
    {
      "cell_type": "code",
      "metadata": {
        "id": "IE3YZnlnG2Xh",
        "colab_type": "code",
        "colab": {}
      },
      "source": [
        "stemmer = RSLPStemmer()\n",
        "lemmatizer = WordNetLemmatizer()"
      ],
      "execution_count": 0,
      "outputs": []
    },
    {
      "cell_type": "code",
      "metadata": {
        "id": "chKL9PGTXQq_",
        "colab_type": "code",
        "colab": {}
      },
      "source": [
        "# Funcao pra remorar URL\n",
        "def is_url(url):\n",
        "  try:\n",
        "    result = urlparse(url)\n",
        "    return all([result.scheme, result.netloc])\n",
        "  except ValueError:\n",
        "    return False\n",
        "\n",
        "# Funcao para extrair o radical da palavra\n",
        "def stemming(text):\n",
        "  word_tokens = word_tokenize(text) \n",
        "  filtering = [stemmer.stem(w) for w in word_tokens]\n",
        "\n",
        "  text_final = ' '.join(filtering)\n",
        "  return text_final\n",
        "\n",
        "# tratamento lexical das palavras\n",
        "def lemmatizing(text):\n",
        "  list_filter = []\n",
        "  for word in text:\n",
        "    word_tokens = word_tokenize(word) \n",
        "    filtering = [lemmatizer.lemmatize(w) for w in word_tokens]\n",
        "    \n",
        "  text_final = ' '.join(filtering)\n",
        "  return text_final\n",
        "\n",
        "# Funcao limpa texto\n",
        "REPLACE_BY_SPACE_RE = re.compile('[/(){}\\[\\]\\|@,;]')\n",
        "PONTUACTION = re.compile('[^\\w\\s]')\n",
        "BAD_SYMBOLS_RE = re.compile('[^0-9a-z #+_]')\n",
        "STOPWORDS = set(stopwords.words('portuguese'))\n",
        "STOPWORDS2 = ['r', 'h', 'u', 'ub']\n",
        "\n",
        "def remove_palavras_recorrentes(text):\n",
        "  text = ' '.join(word2 for word2 in text.split() if word2 not in STOPWORDS2)\n",
        "  return text\n",
        "\n",
        "def limpa_texto(text):\n",
        "    text = text.lower() # lowercase text\n",
        "    text = ' '.join(unidecode(word3) for word3 in text.split())\n",
        "    text = ' '.join(word for word in text.split() if word not in STOPWORDS) # remove stopwors from text\n",
        "    #text = ' '.join(word2 for word2 in text.split() if word2 not in STOPWORDS2)\n",
        "    text = REPLACE_BY_SPACE_RE.sub('', text) # replace REPLACE_BY_SPACE_RE symbols by space in text. substitute the matched string in REPLACE_BY_SPACE_RE with space.\n",
        "    text = BAD_SYMBOLS_RE.sub('', text) # remove symbols which are in BAD_SYMBOLS_RE from text. substitute the matched string in BAD_SYMBOLS_RE with nothing. \n",
        "    text = PONTUACTION.sub('', text) # remove pontuaction\n",
        "    text = ''.join([i for i in text if not i.isdigit()])# remove digits\n",
        "    text = text.strip()\n",
        "    return text"
      ],
      "execution_count": 0,
      "outputs": []
    },
    {
      "cell_type": "code",
      "metadata": {
        "id": "xtECpr8_5q4D",
        "colab_type": "code",
        "colab": {}
      },
      "source": [
        "df = pd.read_csv(\"train.csv\")\n",
        "\n",
        "df = df.reset_index(drop=True)\n",
        "df['content'] = df['text'] + '\\n' + df['text']\n",
        "\n",
        "df['content'] = [' '.join(y for y in x.split() if not is_url(y)) for x in df['content']]\n",
        "\n",
        "# limpa texto\n",
        "df['content'] = df['content'].apply(limpa_texto)\n",
        "\n",
        "df['content'] = df['content'].apply(stemming)\n",
        "df['content'] = df['content'].apply(remove_palavras_recorrentes)\n",
        "\n",
        "text = df['content'].values"
      ],
      "execution_count": 0,
      "outputs": []
    },
    {
      "cell_type": "code",
      "metadata": {
        "id": "SfK2LKFo6MdB",
        "colab_type": "code",
        "outputId": "77ac1724-8fad-44e6-c58c-04117dc91a80",
        "colab": {
          "base_uri": "https://localhost:8080/",
          "height": 89
        }
      },
      "source": [
        "text[:2]"
      ],
      "execution_count": 23,
      "outputs": [
        {
          "output_type": "execute_result",
          "data": {
            "text/plain": [
              "array(['urban anarqu bairr antig lisbo escond real colun vertebr trac antig muralh cuj recuperaca evidenci doi mil ano hist capit lus desd cidad banh tej cham olissip epoc roman ate reconqu crist sempr exist cerc velh muralh antig hoj vem send recuper percurs turis sinal continu send descobert pouc pouc const trabalh arqueolog e trabalh geraco geraco nao consegu acabal declar arqueolog manuel leita projet estud valorizaca cerc velh trabalh sobr muralh comec ano so sistem grac apoi ministeri tur portug hoj aind ha trech pend restauraca escavaco abr vari pont cidad muit cas sol priv iss leita afirm equip centr arqueolog prefeit lisboet permanec muit atent tod obr sao inici perimetr velh muralh result dess trabalh aind inacab pod ser vist desd ano pass atrav percurs sinal pont informaca que segund arqueolog suscit inter cresc turist lisboet tratas rot circul quilometr mei pont desd castel sao jorg ate marg tej segu trac muralh exist epoc domini islam lisbo cham alusbun do secul trabalh equip leita consegu comprov hipotes ja formul anteri plant correspond perfeit percurs muralh anteri epoc roman secul ac inclusiv ha trech qual sao aproveit bas silh roman desd moment desativ estrut defens cerc velh adapt necess cidad long temp relat arqueolog fat muralh apelid antig oposica outr mur constru secul apo conqu crist defend perimetr ampl pirat escaramuc castelh med capit portugu cresc inclusiv ali ond muralh antig quas invisi desc atrav alfam disposica cas cresc col sombr funcion reflex pared segu linh semicircul ness bairr labirin prim vist desc termin cham cas bic hoj sed fundaca jos saramag vari palacet secul constru sobr part muralh percorr junt foz rio tej secul perd funca prote lisboet olh hoj nov muralh inter exempl diss sao invest priv quer dot patrimoni edifici doi hotel esta pag trabalh arqueolog restauraca mant visivel rest pass pedr guerr proprietari prim restaurant integr fragment muralh inclusiv abr pequen espac mus interi declaraco agenc efe guerr diss que cas negoci rest arqueolog sao val agreg func public propriedad encontr rest pequen aterr epoc roman oss outr fragment permit sab mor antig cidad olissip com noss contribuica sensibil pesso cheg tur tamb pes argument arqueolog entant aind ha fragment muralh guard cas sab e nao trat negoci inter conserval men esclarec leita segu rastr mur visit tem vez entr restaurant mus outr edifici ler pedr marc sol obje arqueolog mostr turist mor lisbo nao conjunt edifici context um organ viv const transformaca urban anarqu bairr antig lisbo escond real colun vertebr trac antig muralh cuj recuperaca evidenci doi mil ano hist capit lus desd cidad banh tej cham olissip epoc roman ate reconqu crist sempr exist cerc velh muralh antig hoj vem send recuper percurs turis sinal continu send descobert pouc pouc const trabalh arqueolog e trabalh geraco geraco nao consegu acabal declar arqueolog manuel leita projet estud valorizaca cerc velh trabalh sobr muralh comec ano so sistem grac apoi ministeri tur portug hoj aind ha trech pend restauraca escavaco abr vari pont cidad muit cas sol priv iss leita afirm equip centr arqueolog prefeit lisboet permanec muit atent tod obr sao inici perimetr velh muralh result dess trabalh aind inacab pod ser vist desd ano pass atrav percurs sinal pont informaca que segund arqueolog suscit inter cresc turist lisboet tratas rot circul quilometr mei pont desd castel sao jorg ate marg tej segu trac muralh exist epoc domini islam lisbo cham alusbun do secul trabalh equip leita consegu comprov hipotes ja formul anteri plant correspond perfeit percurs muralh anteri epoc roman secul ac inclusiv ha trech qual sao aproveit bas silh roman desd moment desativ estrut defens cerc velh adapt necess cidad long temp relat arqueolog fat muralh apelid antig oposica outr mur constru secul apo conqu crist defend perimetr ampl pirat escaramuc castelh med capit portugu cresc inclusiv ali ond muralh antig quas invisi desc atrav alfam disposica cas cresc col sombr funcion reflex pared segu linh semicircul ness bairr labirin prim vist desc termin cham cas bic hoj sed fundaca jos saramag vari palacet secul constru sobr part muralh percorr junt foz rio tej secul perd funca prote lisboet olh hoj nov muralh inter exempl diss sao invest priv quer dot patrimoni edifici doi hotel esta pag trabalh arqueolog restauraca mant visivel rest pass pedr guerr proprietari prim restaurant integr fragment muralh inclusiv abr pequen espac mus interi declaraco agenc efe guerr diss que cas negoci rest arqueolog sao val agreg func public propriedad encontr rest pequen aterr epoc roman oss outr fragment permit sab mor antig cidad olissip com noss contribuica sensibil pesso cheg tur tamb pes argument arqueolog entant aind ha fragment muralh guard cas sab e nao trat negoci inter conserval men esclarec leita segu rastr mur visit tem vez entr restaurant mus outr edifici ler pedr marc sol obje arqueolog mostr turist mor lisbo nao conjunt edifici context um organ viv const transformaca',\n",
              "       'empr soc mostr possi unir negoci impact posi sociedad apes recent cresc brasil merc mund mostr ha aind espac desenvolv pal esclarec cenari regia metropolit sao paul endeav parc premi empreend soc lanc map inedit sobr negoci soc nest tercaf estud realiz apoi jp morgan bid banc interameric desenvolv escolh mai cidad pal ter sid eleit melhor lug empreend acord indic cidad empreend part analis qualit entrev fund negoci soc portavoz organizaco foment pesquis traz concluso elab recomendaco agent dess ecossistem pod atu lanc ser junt discussa sobr tem claudi sassak cofund geeki venc premi empreend soc leonard figueired cofund quintess marcel fukayam cofund dinm outr nom event exclus convid lanc map sobr negoci soc auditori insp rua quat vil olimp sao paul sp ter empr soc mostr possi unir negoci impact posi sociedad apes recent cresc brasil merc mund mostr ha aind espac desenvolv pal esclarec cenari regia metropolit sao paul endeav parc premi empreend soc lanc map inedit sobr negoci soc nest tercaf estud realiz apoi jp morgan bid banc interameric desenvolv escolh mai cidad pal ter sid eleit melhor lug empreend acord indic cidad empreend part analis qualit entrev fund negoci soc portavoz organizaco foment pesquis traz concluso elab recomendaco agent dess ecossistem pod atu lanc ser junt discussa sobr tem claudi sassak cofund geeki venc premi empreend soc leonard figueired cofund quintess marcel fukayam cofund dinm outr nom event exclus convid lanc map sobr negoci soc auditori insp rua quat vil olimp sao paul sp ter'],\n",
              "      dtype=object)"
            ]
          },
          "metadata": {
            "tags": []
          },
          "execution_count": 23
        }
      ]
    },
    {
      "cell_type": "code",
      "metadata": {
        "id": "tYJmnezw2oOC",
        "colab_type": "code",
        "outputId": "cba82a3c-d9e3-4237-bffd-75e76ce84f6a",
        "colab": {
          "base_uri": "https://localhost:8080/",
          "height": 139
        }
      },
      "source": [
        "# Cria sequencias de tamanho fixo (input: X)\n",
        "X = pre_processamento_texto(text)\n",
        "X"
      ],
      "execution_count": 24,
      "outputs": [
        {
          "output_type": "execute_result",
          "data": {
            "text/plain": [
              "array([[   0,    0,    0, ...,  181, 1208, 2238],\n",
              "       [   0,    0,    0, ...,   31,  600,   27],\n",
              "       [   0,    0,    0, ...,  962, 3160, 1438],\n",
              "       ...,\n",
              "       [   0,    0,    0, ...,   13, 3603, 2254],\n",
              "       [   0,    0,    0, ..., 2030,   29, 5476],\n",
              "       [   0,    0,    0, ...,  156,    3, 3031]], dtype=int32)"
            ]
          },
          "metadata": {
            "tags": []
          },
          "execution_count": 24
        }
      ]
    },
    {
      "cell_type": "code",
      "metadata": {
        "id": "7cwNKY35nHSY",
        "colab_type": "code",
        "colab": {}
      },
      "source": [
        "# Categoriza o target \"category\" -> [0,..., 1] (output: y)\n",
        "Y_classes = pd.get_dummies(df['category']).columns\n",
        "Y         = pd.get_dummies(df['category']).values"
      ],
      "execution_count": 0,
      "outputs": []
    },
    {
      "cell_type": "code",
      "metadata": {
        "id": "2AiWMg3mnHSh",
        "colab_type": "code",
        "outputId": "e608a5a3-19c9-4376-c841-fe3729a5b142",
        "colab": {
          "base_uri": "https://localhost:8080/",
          "height": 69
        }
      },
      "source": [
        "Y_classes"
      ],
      "execution_count": 26,
      "outputs": [
        {
          "output_type": "execute_result",
          "data": {
            "text/plain": [
              "Index(['ambiente', 'ciencia', 'comida', 'educacao', 'empreendedorsocial',\n",
              "       'equilibrioesaude', 'sobretudo', 'tec', 'turismo'],\n",
              "      dtype='object')"
            ]
          },
          "metadata": {
            "tags": []
          },
          "execution_count": 26
        }
      ]
    },
    {
      "cell_type": "code",
      "metadata": {
        "id": "gxmCS27GnHSo",
        "colab_type": "code",
        "outputId": "d643db49-aec4-4b09-fa68-8e773bfa7e02",
        "colab": {
          "base_uri": "https://localhost:8080/",
          "height": 139
        }
      },
      "source": [
        "Y"
      ],
      "execution_count": 27,
      "outputs": [
        {
          "output_type": "execute_result",
          "data": {
            "text/plain": [
              "array([[0, 0, 0, ..., 0, 0, 1],\n",
              "       [0, 0, 0, ..., 0, 0, 0],\n",
              "       [0, 0, 0, ..., 0, 0, 1],\n",
              "       ...,\n",
              "       [0, 0, 0, ..., 1, 0, 0],\n",
              "       [0, 0, 0, ..., 0, 0, 0],\n",
              "       [0, 0, 0, ..., 0, 0, 0]], dtype=uint8)"
            ]
          },
          "metadata": {
            "tags": []
          },
          "execution_count": 27
        }
      ]
    },
    {
      "cell_type": "code",
      "metadata": {
        "id": "sycVQZEunHSx",
        "colab_type": "code",
        "outputId": "8752dd7a-0ff4-4dc0-e995-6adf2cfdf03c",
        "colab": {
          "base_uri": "https://localhost:8080/",
          "height": 34
        }
      },
      "source": [
        "(X.shape, Y.shape)"
      ],
      "execution_count": 28,
      "outputs": [
        {
          "output_type": "execute_result",
          "data": {
            "text/plain": [
              "((7894, 1000), (7894, 9))"
            ]
          },
          "metadata": {
            "tags": []
          },
          "execution_count": 28
        }
      ]
    },
    {
      "cell_type": "markdown",
      "metadata": {
        "id": "erSAlfzKnHS4",
        "colab_type": "text"
      },
      "source": [
        "# Criação do Modelo"
      ]
    },
    {
      "cell_type": "code",
      "metadata": {
        "id": "QJmeyhUKnHS9",
        "colab_type": "code",
        "outputId": "85fcf772-f47e-457c-dd67-7ced9b2138f5",
        "colab": {
          "base_uri": "https://localhost:8080/",
          "height": 610
        }
      },
      "source": [
        "def create_model():\n",
        "    model = Sequential()\n",
        "    \n",
        "    # Embedding Layer\n",
        "    model.add(Embedding(max_tokens, embed_dim, \n",
        "                        input_length = seq_size))\n",
        "    # RNN Layer\n",
        "    #model.add(LSTM(100, return_sequences=True))\n",
        "    model.add(LSTM(100))\n",
        "    \n",
        "    # Dense Layer\n",
        "    model.add(Dense(20, activation='tanh'))\n",
        "    model.add(Dropout(0.2))\n",
        "    model.add(Dense(len(Y_classes), activation='softmax'))\n",
        "    \n",
        "    model.compile(loss = 'categorical_crossentropy', \n",
        "                  optimizer='adam',\n",
        "                  metrics = ['accuracy'])\n",
        "    \n",
        "    model.summary()\n",
        "    \n",
        "    return model\n",
        "\n",
        "model = create_model()"
      ],
      "execution_count": 29,
      "outputs": [
        {
          "output_type": "stream",
          "text": [
            "WARNING:tensorflow:From /usr/local/lib/python3.6/dist-packages/keras/backend/tensorflow_backend.py:66: The name tf.get_default_graph is deprecated. Please use tf.compat.v1.get_default_graph instead.\n",
            "\n",
            "WARNING:tensorflow:From /usr/local/lib/python3.6/dist-packages/keras/backend/tensorflow_backend.py:541: The name tf.placeholder is deprecated. Please use tf.compat.v1.placeholder instead.\n",
            "\n",
            "WARNING:tensorflow:From /usr/local/lib/python3.6/dist-packages/keras/backend/tensorflow_backend.py:4432: The name tf.random_uniform is deprecated. Please use tf.random.uniform instead.\n",
            "\n",
            "WARNING:tensorflow:From /usr/local/lib/python3.6/dist-packages/keras/backend/tensorflow_backend.py:148: The name tf.placeholder_with_default is deprecated. Please use tf.compat.v1.placeholder_with_default instead.\n",
            "\n",
            "WARNING:tensorflow:From /usr/local/lib/python3.6/dist-packages/keras/backend/tensorflow_backend.py:3733: calling dropout (from tensorflow.python.ops.nn_ops) with keep_prob is deprecated and will be removed in a future version.\n",
            "Instructions for updating:\n",
            "Please use `rate` instead of `keep_prob`. Rate should be set to `rate = 1 - keep_prob`.\n",
            "WARNING:tensorflow:From /usr/local/lib/python3.6/dist-packages/keras/optimizers.py:793: The name tf.train.Optimizer is deprecated. Please use tf.compat.v1.train.Optimizer instead.\n",
            "\n",
            "WARNING:tensorflow:From /usr/local/lib/python3.6/dist-packages/keras/backend/tensorflow_backend.py:3576: The name tf.log is deprecated. Please use tf.math.log instead.\n",
            "\n",
            "Model: \"sequential_1\"\n",
            "_________________________________________________________________\n",
            "Layer (type)                 Output Shape              Param #   \n",
            "=================================================================\n",
            "embedding_1 (Embedding)      (None, 1000, 128)         896000    \n",
            "_________________________________________________________________\n",
            "lstm_1 (LSTM)                (None, 100)               91600     \n",
            "_________________________________________________________________\n",
            "dense_1 (Dense)              (None, 20)                2020      \n",
            "_________________________________________________________________\n",
            "dropout_1 (Dropout)          (None, 20)                0         \n",
            "_________________________________________________________________\n",
            "dense_2 (Dense)              (None, 9)                 189       \n",
            "=================================================================\n",
            "Total params: 989,809\n",
            "Trainable params: 989,809\n",
            "Non-trainable params: 0\n",
            "_________________________________________________________________\n"
          ],
          "name": "stdout"
        }
      ]
    },
    {
      "cell_type": "code",
      "metadata": {
        "id": "06q5Q7HrnHTF",
        "colab_type": "code",
        "outputId": "e5595502-f599-4cb6-b41a-16adc951db3a",
        "colab": {
          "base_uri": "https://localhost:8080/",
          "height": 1000
        }
      },
      "source": [
        "# Separa o dataset em dados de treinamento/validação\n",
        "X_train, X_valid, Y_train, Y_valid = train_test_split(X,Y, \n",
        "                                                      test_size = 0.20, \n",
        "                                                      random_state = 42,\n",
        "                                                      stratify=Y)\n",
        "\n",
        "weights_filepath = \"weights.h5\"\n",
        "callbacks = [ModelCheckpoint(weights_filepath, monitor='val_loss', mode='min',\n",
        "                             verbose=1, save_best_only=True),\n",
        "             EarlyStopping(monitor='val_loss', mode='min', patience=30, verbose=1)]\n",
        "\n",
        "# Treina o modelo\n",
        "hist = model.fit(X_train, Y_train, \n",
        "                 validation_data =(X_valid, Y_valid),\n",
        "                 batch_size=150, nb_epoch = 100,  verbose = 1, callbacks=callbacks)\n",
        "model.load_weights(weights_filepath)"
      ],
      "execution_count": 30,
      "outputs": [
        {
          "output_type": "stream",
          "text": [
            "WARNING:tensorflow:From /tensorflow-1.15.0/python3.6/tensorflow_core/python/ops/math_grad.py:1424: where (from tensorflow.python.ops.array_ops) is deprecated and will be removed in a future version.\n",
            "Instructions for updating:\n",
            "Use tf.where in 2.0, which has the same broadcast rule as np.where\n",
            "WARNING:tensorflow:From /usr/local/lib/python3.6/dist-packages/keras/backend/tensorflow_backend.py:1033: The name tf.assign_add is deprecated. Please use tf.compat.v1.assign_add instead.\n",
            "\n",
            "WARNING:tensorflow:From /usr/local/lib/python3.6/dist-packages/keras/backend/tensorflow_backend.py:1020: The name tf.assign is deprecated. Please use tf.compat.v1.assign instead.\n",
            "\n",
            "WARNING:tensorflow:From /usr/local/lib/python3.6/dist-packages/keras/backend/tensorflow_backend.py:3005: The name tf.Session is deprecated. Please use tf.compat.v1.Session instead.\n",
            "\n",
            "Train on 6315 samples, validate on 1579 samples\n",
            "Epoch 1/100\n",
            "WARNING:tensorflow:From /usr/local/lib/python3.6/dist-packages/keras/backend/tensorflow_backend.py:190: The name tf.get_default_session is deprecated. Please use tf.compat.v1.get_default_session instead.\n",
            "\n",
            "WARNING:tensorflow:From /usr/local/lib/python3.6/dist-packages/keras/backend/tensorflow_backend.py:197: The name tf.ConfigProto is deprecated. Please use tf.compat.v1.ConfigProto instead.\n",
            "\n",
            "WARNING:tensorflow:From /usr/local/lib/python3.6/dist-packages/keras/backend/tensorflow_backend.py:207: The name tf.global_variables is deprecated. Please use tf.compat.v1.global_variables instead.\n",
            "\n",
            "WARNING:tensorflow:From /usr/local/lib/python3.6/dist-packages/keras/backend/tensorflow_backend.py:216: The name tf.is_variable_initialized is deprecated. Please use tf.compat.v1.is_variable_initialized instead.\n",
            "\n",
            "WARNING:tensorflow:From /usr/local/lib/python3.6/dist-packages/keras/backend/tensorflow_backend.py:223: The name tf.variables_initializer is deprecated. Please use tf.compat.v1.variables_initializer instead.\n",
            "\n",
            "6315/6315 [==============================] - 101s 16ms/step - loss: 2.0359 - acc: 0.2198 - val_loss: 1.7673 - val_acc: 0.3281\n",
            "\n",
            "Epoch 00001: val_loss improved from inf to 1.76728, saving model to weights.h5\n",
            "Epoch 2/100\n",
            "6315/6315 [==============================] - 93s 15ms/step - loss: 1.6076 - acc: 0.5256 - val_loss: 1.5263 - val_acc: 0.4927\n",
            "\n",
            "Epoch 00002: val_loss improved from 1.76728 to 1.52627, saving model to weights.h5\n",
            "Epoch 3/100\n",
            "6315/6315 [==============================] - 93s 15ms/step - loss: 1.0310 - acc: 0.6614 - val_loss: 1.0360 - val_acc: 0.6567\n",
            "\n",
            "Epoch 00003: val_loss improved from 1.52627 to 1.03601, saving model to weights.h5\n",
            "Epoch 4/100\n",
            "6315/6315 [==============================] - 95s 15ms/step - loss: 0.7351 - acc: 0.7606 - val_loss: 0.9439 - val_acc: 0.6992\n",
            "\n",
            "Epoch 00004: val_loss improved from 1.03601 to 0.94394, saving model to weights.h5\n",
            "Epoch 5/100\n",
            "6315/6315 [==============================] - 94s 15ms/step - loss: 0.6229 - acc: 0.8108 - val_loss: 0.9752 - val_acc: 0.7017\n",
            "\n",
            "Epoch 00005: val_loss did not improve from 0.94394\n",
            "Epoch 6/100\n",
            "6315/6315 [==============================] - 95s 15ms/step - loss: 0.4653 - acc: 0.8670 - val_loss: 0.9682 - val_acc: 0.7175\n",
            "\n",
            "Epoch 00006: val_loss did not improve from 0.94394\n",
            "Epoch 7/100\n",
            "6315/6315 [==============================] - 92s 15ms/step - loss: 0.3373 - acc: 0.9123 - val_loss: 0.9929 - val_acc: 0.7220\n",
            "\n",
            "Epoch 00007: val_loss did not improve from 0.94394\n",
            "Epoch 8/100\n",
            "6315/6315 [==============================] - 94s 15ms/step - loss: 0.2728 - acc: 0.9325 - val_loss: 1.0369 - val_acc: 0.7188\n",
            "\n",
            "Epoch 00008: val_loss did not improve from 0.94394\n",
            "Epoch 9/100\n",
            "6315/6315 [==============================] - 92s 15ms/step - loss: 0.2487 - acc: 0.9408 - val_loss: 1.1150 - val_acc: 0.7112\n",
            "\n",
            "Epoch 00009: val_loss did not improve from 0.94394\n",
            "Epoch 10/100\n",
            "6315/6315 [==============================] - 91s 14ms/step - loss: 0.1807 - acc: 0.9625 - val_loss: 1.0941 - val_acc: 0.7391\n",
            "\n",
            "Epoch 00010: val_loss did not improve from 0.94394\n",
            "Epoch 11/100\n",
            "6315/6315 [==============================] - 93s 15ms/step - loss: 0.1407 - acc: 0.9770 - val_loss: 1.1545 - val_acc: 0.7207\n",
            "\n",
            "Epoch 00011: val_loss did not improve from 0.94394\n",
            "Epoch 12/100\n",
            "6315/6315 [==============================] - 93s 15ms/step - loss: 0.1145 - acc: 0.9826 - val_loss: 1.1840 - val_acc: 0.7429\n",
            "\n",
            "Epoch 00012: val_loss did not improve from 0.94394\n",
            "Epoch 13/100\n",
            "6315/6315 [==============================] - 94s 15ms/step - loss: 0.3005 - acc: 0.9253 - val_loss: 1.2636 - val_acc: 0.7099\n",
            "\n",
            "Epoch 00013: val_loss did not improve from 0.94394\n",
            "Epoch 14/100\n",
            "6315/6315 [==============================] - 94s 15ms/step - loss: 0.1197 - acc: 0.9774 - val_loss: 1.2418 - val_acc: 0.7239\n",
            "\n",
            "Epoch 00014: val_loss did not improve from 0.94394\n",
            "Epoch 15/100\n",
            "6315/6315 [==============================] - 94s 15ms/step - loss: 0.0742 - acc: 0.9916 - val_loss: 1.2994 - val_acc: 0.7270\n",
            "\n",
            "Epoch 00015: val_loss did not improve from 0.94394\n",
            "Epoch 16/100\n",
            "6315/6315 [==============================] - 94s 15ms/step - loss: 0.0612 - acc: 0.9938 - val_loss: 1.2835 - val_acc: 0.7460\n",
            "\n",
            "Epoch 00016: val_loss did not improve from 0.94394\n",
            "Epoch 17/100\n",
            "6315/6315 [==============================] - 96s 15ms/step - loss: 0.0536 - acc: 0.9941 - val_loss: 1.4420 - val_acc: 0.7061\n",
            "\n",
            "Epoch 00017: val_loss did not improve from 0.94394\n",
            "Epoch 18/100\n",
            "6315/6315 [==============================] - 96s 15ms/step - loss: 0.0881 - acc: 0.9823 - val_loss: 1.3525 - val_acc: 0.7283\n",
            "\n",
            "Epoch 00018: val_loss did not improve from 0.94394\n",
            "Epoch 19/100\n",
            "6315/6315 [==============================] - 96s 15ms/step - loss: 0.0507 - acc: 0.9932 - val_loss: 1.3357 - val_acc: 0.7397\n",
            "\n",
            "Epoch 00019: val_loss did not improve from 0.94394\n",
            "Epoch 20/100\n",
            "6315/6315 [==============================] - 95s 15ms/step - loss: 0.0441 - acc: 0.9943 - val_loss: 1.3581 - val_acc: 0.7346\n",
            "\n",
            "Epoch 00020: val_loss did not improve from 0.94394\n",
            "Epoch 21/100\n",
            "6315/6315 [==============================] - 95s 15ms/step - loss: 0.0319 - acc: 0.9975 - val_loss: 1.3548 - val_acc: 0.7492\n",
            "\n",
            "Epoch 00021: val_loss did not improve from 0.94394\n",
            "Epoch 22/100\n",
            "6315/6315 [==============================] - 95s 15ms/step - loss: 0.0266 - acc: 0.9983 - val_loss: 1.3992 - val_acc: 0.7467\n",
            "\n",
            "Epoch 00022: val_loss did not improve from 0.94394\n",
            "Epoch 23/100\n",
            "6315/6315 [==============================] - 95s 15ms/step - loss: 0.0538 - acc: 0.9905 - val_loss: 1.5292 - val_acc: 0.7144\n",
            "\n",
            "Epoch 00023: val_loss did not improve from 0.94394\n",
            "Epoch 24/100\n",
            "6315/6315 [==============================] - 96s 15ms/step - loss: 0.0375 - acc: 0.9960 - val_loss: 1.4617 - val_acc: 0.7422\n",
            "\n",
            "Epoch 00024: val_loss did not improve from 0.94394\n",
            "Epoch 25/100\n",
            "6315/6315 [==============================] - 95s 15ms/step - loss: 0.0350 - acc: 0.9959 - val_loss: 1.6331 - val_acc: 0.7099\n",
            "\n",
            "Epoch 00025: val_loss did not improve from 0.94394\n",
            "Epoch 26/100\n",
            "6315/6315 [==============================] - 95s 15ms/step - loss: 0.0604 - acc: 0.9888 - val_loss: 1.5030 - val_acc: 0.7283\n",
            "\n",
            "Epoch 00026: val_loss did not improve from 0.94394\n",
            "Epoch 27/100\n",
            "6315/6315 [==============================] - 94s 15ms/step - loss: 0.0284 - acc: 0.9970 - val_loss: 1.5092 - val_acc: 0.7353\n",
            "\n",
            "Epoch 00027: val_loss did not improve from 0.94394\n",
            "Epoch 28/100\n",
            "6315/6315 [==============================] - 95s 15ms/step - loss: 0.0273 - acc: 0.9970 - val_loss: 1.5191 - val_acc: 0.7353\n",
            "\n",
            "Epoch 00028: val_loss did not improve from 0.94394\n",
            "Epoch 29/100\n",
            "6315/6315 [==============================] - 96s 15ms/step - loss: 0.0205 - acc: 0.9981 - val_loss: 1.5163 - val_acc: 0.7454\n",
            "\n",
            "Epoch 00029: val_loss did not improve from 0.94394\n",
            "Epoch 30/100\n",
            "6315/6315 [==============================] - 96s 15ms/step - loss: 0.0176 - acc: 0.9987 - val_loss: 1.5110 - val_acc: 0.7498\n",
            "\n",
            "Epoch 00030: val_loss did not improve from 0.94394\n",
            "Epoch 31/100\n",
            "6315/6315 [==============================] - 96s 15ms/step - loss: 0.0139 - acc: 0.9995 - val_loss: 1.5333 - val_acc: 0.7517\n",
            "\n",
            "Epoch 00031: val_loss did not improve from 0.94394\n",
            "Epoch 32/100\n",
            "6315/6315 [==============================] - 94s 15ms/step - loss: 0.0137 - acc: 0.9990 - val_loss: 1.5407 - val_acc: 0.7536\n",
            "\n",
            "Epoch 00032: val_loss did not improve from 0.94394\n",
            "Epoch 33/100\n",
            "6315/6315 [==============================] - 95s 15ms/step - loss: 0.0124 - acc: 0.9992 - val_loss: 1.5511 - val_acc: 0.7638\n",
            "\n",
            "Epoch 00033: val_loss did not improve from 0.94394\n",
            "Epoch 34/100\n",
            "6315/6315 [==============================] - 95s 15ms/step - loss: 0.0118 - acc: 0.9995 - val_loss: 1.5499 - val_acc: 0.7619\n",
            "\n",
            "Epoch 00034: val_loss did not improve from 0.94394\n",
            "Epoch 00034: early stopping\n"
          ],
          "name": "stdout"
        }
      ]
    },
    {
      "cell_type": "code",
      "metadata": {
        "id": "AG-MgbqJAUya",
        "colab_type": "code",
        "colab": {
          "base_uri": "https://localhost:8080/",
          "height": 553
        },
        "outputId": "aa608314-7677-417c-8feb-716427b5240b"
      },
      "source": [
        "plt.plot(hist.history['acc'])\n",
        "plt.plot(hist.history['val_acc'])\n",
        "plt.ylabel('acurácia')\n",
        "plt.xlabel('época')\n",
        "plt.legend(['treino', 'validação'], loc = 'upper left')\n",
        "plt.show()\n",
        "\n",
        "plt.plot(hist.history['loss'])\n",
        "plt.plot(hist.history['val_loss'])\n",
        "plt.ylabel('loss')\n",
        "plt.xlabel('época')\n",
        "plt.legend(['treino', 'validação'], loc = 'upper left')\n",
        "plt.show()"
      ],
      "execution_count": 31,
      "outputs": [
        {
          "output_type": "display_data",
          "data": {
            "image/png": "[encoded data removed]",
            "text/plain": [
              "<Figure size 432x288 with 1 Axes>"
            ]
          },
          "metadata": {
            "tags": []
          }
        },
        {
          "output_type": "display_data",
          "data": {
            "image/png": "[encoded data removed]",
            "text/plain": [
              "<Figure size 432x288 with 1 Axes>"
            ]
          },
          "metadata": {
            "tags": []
          }
        }
      ]
    },
    {
      "cell_type": "markdown",
      "metadata": {
        "id": "dVUhy76SKju_",
        "colab_type": "text"
      },
      "source": [
        "##CNN"
      ]
    },
    {
      "cell_type": "code",
      "metadata": {
        "id": "8r8knlaO_WX_",
        "colab_type": "code",
        "colab": {}
      },
      "source": [
        "from keras.regularizers import *"
      ],
      "execution_count": 0,
      "outputs": []
    },
    {
      "cell_type": "code",
      "metadata": {
        "id": "NGwniH13KiDC",
        "colab_type": "code",
        "outputId": "59ce483d-8fb6-43ed-c044-3ee5d0bacff6",
        "colab": {
          "base_uri": "https://localhost:8080/",
          "height": 871
        }
      },
      "source": [
        "def create_model():\n",
        "    input_ = Input(shape=(seq_size,), dtype='int32')\n",
        "    x = input_\n",
        "    x = Embedding(max_tokens, embed_dim, input_length = seq_size)(x)\n",
        "    \n",
        "    x1 = Conv1D(100, 2, activation='relu')(x)\n",
        "    x1 = MaxPooling1D(2)(x1)\n",
        "    \n",
        "    x2 = Conv1D(100, 3, activation='relu')(x)\n",
        "    x2 = MaxPooling1D(3)(x2)\n",
        "    \n",
        "    x3 = Conv1D(100, 4, activation='relu')(x)\n",
        "    x3 = MaxPooling1D(4)(x3)\n",
        "\n",
        "    x4 = Conv1D(100, 5, activation='relu')(x)\n",
        "    x4 = MaxPooling1D(5)(x4)\n",
        "\n",
        "    x5 = Conv1D(100, 5, activation='relu')(x)\n",
        "    x5 = MaxPooling1D(5)(x5)\n",
        "\n",
        "    x = Concatenate(axis=1)([x1, x2, x3, x4, x5])\n",
        "    x = Flatten()(x)\n",
        "    \n",
        "    x = Dense(8, activation='relu')(x)\n",
        "    x = Dropout(0.2)(x)\n",
        "    x = Dense(len(Y_classes), activation='softmax')(x)\n",
        "    \n",
        "    model = Model(input_, x)\n",
        "    \n",
        "    model.compile(loss = 'categorical_crossentropy', \n",
        "                  optimizer='adam',\n",
        "                  metrics = ['accuracy'])\n",
        "    \n",
        "    return model\n",
        "\n",
        "model = create_model()\n",
        "model.summary()\n",
        "\n",
        "for layer in model.layers:\n",
        "  layer.kernel_regularizer = l2(1e-5)"
      ],
      "execution_count": 33,
      "outputs": [
        {
          "output_type": "stream",
          "text": [
            "WARNING:tensorflow:From /usr/local/lib/python3.6/dist-packages/keras/backend/tensorflow_backend.py:4267: The name tf.nn.max_pool is deprecated. Please use tf.nn.max_pool2d instead.\n",
            "\n",
            "Model: \"model_1\"\n",
            "__________________________________________________________________________________________________\n",
            "Layer (type)                    Output Shape         Param #     Connected to                     \n",
            "==================================================================================================\n",
            "input_1 (InputLayer)            (None, 1000)         0                                            \n",
            "__________________________________________________________________________________________________\n",
            "embedding_2 (Embedding)         (None, 1000, 128)    896000      input_1[0][0]                    \n",
            "__________________________________________________________________________________________________\n",
            "conv1d_1 (Conv1D)               (None, 999, 100)     25700       embedding_2[0][0]                \n",
            "__________________________________________________________________________________________________\n",
            "conv1d_2 (Conv1D)               (None, 998, 100)     38500       embedding_2[0][0]                \n",
            "__________________________________________________________________________________________________\n",
            "conv1d_3 (Conv1D)               (None, 997, 100)     51300       embedding_2[0][0]                \n",
            "__________________________________________________________________________________________________\n",
            "conv1d_4 (Conv1D)               (None, 996, 100)     64100       embedding_2[0][0]                \n",
            "__________________________________________________________________________________________________\n",
            "conv1d_5 (Conv1D)               (None, 996, 100)     64100       embedding_2[0][0]                \n",
            "__________________________________________________________________________________________________\n",
            "max_pooling1d_1 (MaxPooling1D)  (None, 499, 100)     0           conv1d_1[0][0]                   \n",
            "__________________________________________________________________________________________________\n",
            "max_pooling1d_2 (MaxPooling1D)  (None, 332, 100)     0           conv1d_2[0][0]                   \n",
            "__________________________________________________________________________________________________\n",
            "max_pooling1d_3 (MaxPooling1D)  (None, 249, 100)     0           conv1d_3[0][0]                   \n",
            "__________________________________________________________________________________________________\n",
            "max_pooling1d_4 (MaxPooling1D)  (None, 199, 100)     0           conv1d_4[0][0]                   \n",
            "__________________________________________________________________________________________________\n",
            "max_pooling1d_5 (MaxPooling1D)  (None, 199, 100)     0           conv1d_5[0][0]                   \n",
            "__________________________________________________________________________________________________\n",
            "concatenate_1 (Concatenate)     (None, 1478, 100)    0           max_pooling1d_1[0][0]            \n",
            "                                                                 max_pooling1d_2[0][0]            \n",
            "                                                                 max_pooling1d_3[0][0]            \n",
            "                                                                 max_pooling1d_4[0][0]            \n",
            "                                                                 max_pooling1d_5[0][0]            \n",
            "__________________________________________________________________________________________________\n",
            "flatten_1 (Flatten)             (None, 147800)       0           concatenate_1[0][0]              \n",
            "__________________________________________________________________________________________________\n",
            "dense_3 (Dense)                 (None, 8)            1182408     flatten_1[0][0]                  \n",
            "__________________________________________________________________________________________________\n",
            "dropout_2 (Dropout)             (None, 8)            0           dense_3[0][0]                    \n",
            "__________________________________________________________________________________________________\n",
            "dense_4 (Dense)                 (None, 9)            81          dropout_2[0][0]                  \n",
            "==================================================================================================\n",
            "Total params: 2,322,189\n",
            "Trainable params: 2,322,189\n",
            "Non-trainable params: 0\n",
            "__________________________________________________________________________________________________\n"
          ],
          "name": "stdout"
        }
      ]
    },
    {
      "cell_type": "code",
      "metadata": {
        "id": "LyhSNHEAKjFZ",
        "colab_type": "code",
        "outputId": "692c43b6-a35d-4a1b-b080-e751f26c18fe",
        "colab": {
          "base_uri": "https://localhost:8080/",
          "height": 1000
        }
      },
      "source": [
        "# Separa o dataset em dados de treinamento/validação\n",
        "X_train, X_valid, Y_train, Y_valid = train_test_split(X,Y, \n",
        "                                                      test_size = 0.20, \n",
        "                                                      random_state = 42,\n",
        "                                                      stratify=Y)\n",
        "\n",
        "weights_filepath = \"weights.h5\"\n",
        "callbacks = [ModelCheckpoint(weights_filepath, monitor='val_loss', mode='min',\n",
        "                             verbose=1, save_best_only=True),\n",
        "             EarlyStopping(monitor='val_loss', mode='min', patience=16, verbose=1)]\n",
        "\n",
        "# Treina o modelo\n",
        "hist = model.fit(X_train, Y_train, \n",
        "                 validation_data =(X_valid, Y_valid),\n",
        "                 batch_size=300, nb_epoch = 100,  verbose = 1, callbacks=callbacks)\n",
        "model.load_weights(weights_filepath)\n"
      ],
      "execution_count": 34,
      "outputs": [
        {
          "output_type": "stream",
          "text": [
            "Train on 6315 samples, validate on 1579 samples\n",
            "Epoch 1/100\n",
            "6315/6315 [==============================] - 9s 1ms/step - loss: 2.2708 - acc: 0.1781 - val_loss: 2.1921 - val_acc: 0.1742\n",
            "\n",
            "Epoch 00001: val_loss improved from inf to 2.19207, saving model to weights.h5\n",
            "Epoch 2/100\n",
            "6315/6315 [==============================] - 3s 445us/step - loss: 2.1894 - acc: 0.1745 - val_loss: 2.1862 - val_acc: 0.1742\n",
            "\n",
            "Epoch 00002: val_loss improved from 2.19207 to 2.18624, saving model to weights.h5\n",
            "Epoch 3/100\n",
            "6315/6315 [==============================] - 3s 445us/step - loss: 2.1836 - acc: 0.1745 - val_loss: 2.1804 - val_acc: 0.1742\n",
            "\n",
            "Epoch 00003: val_loss improved from 2.18624 to 2.18039, saving model to weights.h5\n",
            "Epoch 4/100\n",
            "6315/6315 [==============================] - 3s 444us/step - loss: 2.1777 - acc: 0.1745 - val_loss: 2.1748 - val_acc: 0.1742\n",
            "\n",
            "Epoch 00004: val_loss improved from 2.18039 to 2.17477, saving model to weights.h5\n",
            "Epoch 5/100\n",
            "6315/6315 [==============================] - 3s 444us/step - loss: 2.1724 - acc: 0.1745 - val_loss: 2.1695 - val_acc: 0.1742\n",
            "\n",
            "Epoch 00005: val_loss improved from 2.17477 to 2.16954, saving model to weights.h5\n",
            "Epoch 6/100\n",
            "6315/6315 [==============================] - 3s 444us/step - loss: 2.1674 - acc: 0.1745 - val_loss: 2.1647 - val_acc: 0.1742\n",
            "\n",
            "Epoch 00006: val_loss improved from 2.16954 to 2.16473, saving model to weights.h5\n",
            "Epoch 7/100\n",
            "6315/6315 [==============================] - 3s 443us/step - loss: 2.1625 - acc: 0.1745 - val_loss: 2.1601 - val_acc: 0.1742\n",
            "\n",
            "Epoch 00007: val_loss improved from 2.16473 to 2.16011, saving model to weights.h5\n",
            "Epoch 8/100\n",
            "6315/6315 [==============================] - 3s 443us/step - loss: 2.1580 - acc: 0.1745 - val_loss: 2.1557 - val_acc: 0.1742\n",
            "\n",
            "Epoch 00008: val_loss improved from 2.16011 to 2.15567, saving model to weights.h5\n",
            "Epoch 9/100\n",
            "6315/6315 [==============================] - 3s 444us/step - loss: 2.1538 - acc: 0.1745 - val_loss: 2.1518 - val_acc: 0.1742\n",
            "\n",
            "Epoch 00009: val_loss improved from 2.15567 to 2.15184, saving model to weights.h5\n",
            "Epoch 10/100\n",
            "6315/6315 [==============================] - 3s 445us/step - loss: 2.1500 - acc: 0.1745 - val_loss: 2.1480 - val_acc: 0.1742\n",
            "\n",
            "Epoch 00010: val_loss improved from 2.15184 to 2.14804, saving model to weights.h5\n",
            "Epoch 11/100\n",
            "6315/6315 [==============================] - 3s 447us/step - loss: 2.1463 - acc: 0.1745 - val_loss: 2.1444 - val_acc: 0.1742\n",
            "\n",
            "Epoch 00011: val_loss improved from 2.14804 to 2.14440, saving model to weights.h5\n",
            "Epoch 12/100\n",
            "6315/6315 [==============================] - 3s 444us/step - loss: 2.1428 - acc: 0.1745 - val_loss: 2.1411 - val_acc: 0.1742\n",
            "\n",
            "Epoch 00012: val_loss improved from 2.14440 to 2.14109, saving model to weights.h5\n",
            "Epoch 13/100\n",
            "6315/6315 [==============================] - 3s 445us/step - loss: 2.1396 - acc: 0.1745 - val_loss: 2.1380 - val_acc: 0.1742\n",
            "\n",
            "Epoch 00013: val_loss improved from 2.14109 to 2.13804, saving model to weights.h5\n",
            "Epoch 14/100\n",
            "6315/6315 [==============================] - 3s 443us/step - loss: 2.1366 - acc: 0.1745 - val_loss: 2.1351 - val_acc: 0.1742\n",
            "\n",
            "Epoch 00014: val_loss improved from 2.13804 to 2.13514, saving model to weights.h5\n",
            "Epoch 15/100\n",
            "6315/6315 [==============================] - 3s 445us/step - loss: 2.1338 - acc: 0.1745 - val_loss: 2.1326 - val_acc: 0.1742\n",
            "\n",
            "Epoch 00015: val_loss improved from 2.13514 to 2.13261, saving model to weights.h5\n",
            "Epoch 16/100\n",
            "6315/6315 [==============================] - 3s 444us/step - loss: 2.1313 - acc: 0.1745 - val_loss: 2.1302 - val_acc: 0.1742\n",
            "\n",
            "Epoch 00016: val_loss improved from 2.13261 to 2.13025, saving model to weights.h5\n",
            "Epoch 17/100\n",
            "6315/6315 [==============================] - 3s 445us/step - loss: 2.1291 - acc: 0.1745 - val_loss: 2.1280 - val_acc: 0.1742\n",
            "\n",
            "Epoch 00017: val_loss improved from 2.13025 to 2.12802, saving model to weights.h5\n",
            "Epoch 18/100\n",
            "6315/6315 [==============================] - 3s 445us/step - loss: 2.1269 - acc: 0.1745 - val_loss: 2.1258 - val_acc: 0.1742\n",
            "\n",
            "Epoch 00018: val_loss improved from 2.12802 to 2.12581, saving model to weights.h5\n",
            "Epoch 19/100\n",
            "6315/6315 [==============================] - 3s 444us/step - loss: 2.1248 - acc: 0.1745 - val_loss: 2.1240 - val_acc: 0.1742\n",
            "\n",
            "Epoch 00019: val_loss improved from 2.12581 to 2.12400, saving model to weights.h5\n",
            "Epoch 20/100\n",
            "6315/6315 [==============================] - 3s 444us/step - loss: 2.1229 - acc: 0.1745 - val_loss: 2.1221 - val_acc: 0.1742\n",
            "\n",
            "Epoch 00020: val_loss improved from 2.12400 to 2.12213, saving model to weights.h5\n",
            "Epoch 21/100\n",
            "6315/6315 [==============================] - 3s 444us/step - loss: 2.1212 - acc: 0.1745 - val_loss: 2.1204 - val_acc: 0.1742\n",
            "\n",
            "Epoch 00021: val_loss improved from 2.12213 to 2.12045, saving model to weights.h5\n",
            "Epoch 22/100\n",
            "6315/6315 [==============================] - 3s 444us/step - loss: 2.1195 - acc: 0.1745 - val_loss: 2.1189 - val_acc: 0.1742\n",
            "\n",
            "Epoch 00022: val_loss improved from 2.12045 to 2.11885, saving model to weights.h5\n",
            "Epoch 23/100\n",
            "6315/6315 [==============================] - 3s 444us/step - loss: 2.1180 - acc: 0.1745 - val_loss: 2.1175 - val_acc: 0.1742\n",
            "\n",
            "Epoch 00023: val_loss improved from 2.11885 to 2.11745, saving model to weights.h5\n",
            "Epoch 24/100\n",
            "6315/6315 [==============================] - 3s 444us/step - loss: 2.1167 - acc: 0.1745 - val_loss: 2.1163 - val_acc: 0.1742\n",
            "\n",
            "Epoch 00024: val_loss improved from 2.11745 to 2.11629, saving model to weights.h5\n",
            "Epoch 25/100\n",
            "6315/6315 [==============================] - 3s 444us/step - loss: 2.1155 - acc: 0.1745 - val_loss: 2.1151 - val_acc: 0.1742\n",
            "\n",
            "Epoch 00025: val_loss improved from 2.11629 to 2.11508, saving model to weights.h5\n",
            "Epoch 26/100\n",
            "6315/6315 [==============================] - 3s 444us/step - loss: 2.1143 - acc: 0.1745 - val_loss: 2.1139 - val_acc: 0.1742\n",
            "\n",
            "Epoch 00026: val_loss improved from 2.11508 to 2.11394, saving model to weights.h5\n",
            "Epoch 27/100\n",
            "6315/6315 [==============================] - 3s 444us/step - loss: 2.1133 - acc: 0.1745 - val_loss: 2.1130 - val_acc: 0.1742\n",
            "\n",
            "Epoch 00027: val_loss improved from 2.11394 to 2.11301, saving model to weights.h5\n",
            "Epoch 28/100\n",
            "6315/6315 [==============================] - 3s 445us/step - loss: 2.1124 - acc: 0.1745 - val_loss: 2.1121 - val_acc: 0.1742\n",
            "\n",
            "Epoch 00028: val_loss improved from 2.11301 to 2.11212, saving model to weights.h5\n",
            "Epoch 29/100\n",
            "6315/6315 [==============================] - 3s 445us/step - loss: 2.1115 - acc: 0.1748 - val_loss: 2.1113 - val_acc: 0.1862\n",
            "\n",
            "Epoch 00029: val_loss improved from 2.11212 to 2.11127, saving model to weights.h5\n",
            "Epoch 30/100\n",
            "6315/6315 [==============================] - 3s 444us/step - loss: 2.1106 - acc: 0.1861 - val_loss: 2.1104 - val_acc: 0.1862\n",
            "\n",
            "Epoch 00030: val_loss improved from 2.11127 to 2.11043, saving model to weights.h5\n",
            "Epoch 31/100\n",
            "6315/6315 [==============================] - 3s 444us/step - loss: 2.1098 - acc: 0.1861 - val_loss: 2.1097 - val_acc: 0.1862\n",
            "\n",
            "Epoch 00031: val_loss improved from 2.11043 to 2.10969, saving model to weights.h5\n",
            "Epoch 32/100\n",
            "6315/6315 [==============================] - 3s 444us/step - loss: 2.1092 - acc: 0.1861 - val_loss: 2.1091 - val_acc: 0.1862\n",
            "\n",
            "Epoch 00032: val_loss improved from 2.10969 to 2.10908, saving model to weights.h5\n",
            "Epoch 33/100\n",
            "6315/6315 [==============================] - 3s 442us/step - loss: 2.1085 - acc: 0.1861 - val_loss: 2.1085 - val_acc: 0.1862\n",
            "\n",
            "Epoch 00033: val_loss improved from 2.10908 to 2.10846, saving model to weights.h5\n",
            "Epoch 34/100\n",
            "6315/6315 [==============================] - 3s 445us/step - loss: 2.1080 - acc: 0.1861 - val_loss: 2.1081 - val_acc: 0.1862\n",
            "\n",
            "Epoch 00034: val_loss improved from 2.10846 to 2.10807, saving model to weights.h5\n",
            "Epoch 35/100\n",
            "6315/6315 [==============================] - 3s 444us/step - loss: 2.1076 - acc: 0.1861 - val_loss: 2.1076 - val_acc: 0.1862\n",
            "\n",
            "Epoch 00035: val_loss improved from 2.10807 to 2.10761, saving model to weights.h5\n",
            "Epoch 36/100\n",
            "6315/6315 [==============================] - 3s 443us/step - loss: 2.1072 - acc: 0.1861 - val_loss: 2.1072 - val_acc: 0.1862\n",
            "\n",
            "Epoch 00036: val_loss improved from 2.10761 to 2.10718, saving model to weights.h5\n",
            "Epoch 37/100\n",
            "6315/6315 [==============================] - 3s 444us/step - loss: 2.1067 - acc: 0.1861 - val_loss: 2.1068 - val_acc: 0.1862\n",
            "\n",
            "Epoch 00037: val_loss improved from 2.10718 to 2.10677, saving model to weights.h5\n",
            "Epoch 38/100\n",
            "6315/6315 [==============================] - 3s 444us/step - loss: 2.1063 - acc: 0.1861 - val_loss: 2.1064 - val_acc: 0.1862\n",
            "\n",
            "Epoch 00038: val_loss improved from 2.10677 to 2.10635, saving model to weights.h5\n",
            "Epoch 39/100\n",
            "6315/6315 [==============================] - 3s 443us/step - loss: 2.1060 - acc: 0.1861 - val_loss: 2.1061 - val_acc: 0.1862\n",
            "\n",
            "Epoch 00039: val_loss improved from 2.10635 to 2.10611, saving model to weights.h5\n",
            "Epoch 40/100\n",
            "6315/6315 [==============================] - 3s 445us/step - loss: 2.1057 - acc: 0.1861 - val_loss: 2.1058 - val_acc: 0.1862\n",
            "\n",
            "Epoch 00040: val_loss improved from 2.10611 to 2.10580, saving model to weights.h5\n",
            "Epoch 41/100\n",
            "6315/6315 [==============================] - 3s 444us/step - loss: 2.1054 - acc: 0.1861 - val_loss: 2.1055 - val_acc: 0.1862\n",
            "\n",
            "Epoch 00041: val_loss improved from 2.10580 to 2.10547, saving model to weights.h5\n",
            "Epoch 42/100\n",
            "6315/6315 [==============================] - 3s 445us/step - loss: 2.1051 - acc: 0.1861 - val_loss: 2.1052 - val_acc: 0.1862\n",
            "\n",
            "Epoch 00042: val_loss improved from 2.10547 to 2.10518, saving model to weights.h5\n",
            "Epoch 43/100\n",
            "6315/6315 [==============================] - 3s 444us/step - loss: 2.1048 - acc: 0.1861 - val_loss: 2.1049 - val_acc: 0.1862\n",
            "\n",
            "Epoch 00043: val_loss improved from 2.10518 to 2.10491, saving model to weights.h5\n",
            "Epoch 44/100\n",
            "6315/6315 [==============================] - 3s 444us/step - loss: 2.1045 - acc: 0.1861 - val_loss: 2.1046 - val_acc: 0.1862\n",
            "\n",
            "Epoch 00044: val_loss improved from 2.10491 to 2.10464, saving model to weights.h5\n",
            "Epoch 45/100\n",
            "6315/6315 [==============================] - 3s 444us/step - loss: 2.1043 - acc: 0.1861 - val_loss: 2.1044 - val_acc: 0.1862\n",
            "\n",
            "Epoch 00045: val_loss improved from 2.10464 to 2.10438, saving model to weights.h5\n",
            "Epoch 46/100\n",
            "6315/6315 [==============================] - 3s 443us/step - loss: 2.1040 - acc: 0.1861 - val_loss: 2.1041 - val_acc: 0.1862\n",
            "\n",
            "Epoch 00046: val_loss improved from 2.10438 to 2.10414, saving model to weights.h5\n",
            "Epoch 47/100\n",
            "6315/6315 [==============================] - 3s 445us/step - loss: 2.1038 - acc: 0.1861 - val_loss: 2.1039 - val_acc: 0.1862\n",
            "\n",
            "Epoch 00047: val_loss improved from 2.10414 to 2.10392, saving model to weights.h5\n",
            "Epoch 48/100\n",
            "6315/6315 [==============================] - 3s 445us/step - loss: 2.1036 - acc: 0.1861 - val_loss: 2.1038 - val_acc: 0.1862\n",
            "\n",
            "Epoch 00048: val_loss improved from 2.10392 to 2.10377, saving model to weights.h5\n",
            "Epoch 49/100\n",
            "6315/6315 [==============================] - 3s 443us/step - loss: 2.1034 - acc: 0.1861 - val_loss: 2.1037 - val_acc: 0.1862\n",
            "\n",
            "Epoch 00049: val_loss improved from 2.10377 to 2.10368, saving model to weights.h5\n",
            "Epoch 50/100\n",
            "6315/6315 [==============================] - 3s 445us/step - loss: 2.1033 - acc: 0.1861 - val_loss: 2.1035 - val_acc: 0.1862\n",
            "\n",
            "Epoch 00050: val_loss improved from 2.10368 to 2.10355, saving model to weights.h5\n",
            "Epoch 51/100\n",
            "6315/6315 [==============================] - 3s 444us/step - loss: 2.1032 - acc: 0.1861 - val_loss: 2.1034 - val_acc: 0.1862\n",
            "\n",
            "Epoch 00051: val_loss improved from 2.10355 to 2.10343, saving model to weights.h5\n",
            "Epoch 52/100\n",
            "6315/6315 [==============================] - 3s 444us/step - loss: 2.1031 - acc: 0.1861 - val_loss: 2.1033 - val_acc: 0.1862\n",
            "\n",
            "Epoch 00052: val_loss improved from 2.10343 to 2.10334, saving model to weights.h5\n",
            "Epoch 53/100\n",
            "6315/6315 [==============================] - 3s 444us/step - loss: 2.1030 - acc: 0.1861 - val_loss: 2.1032 - val_acc: 0.1862\n",
            "\n",
            "Epoch 00053: val_loss improved from 2.10334 to 2.10324, saving model to weights.h5\n",
            "Epoch 54/100\n",
            "6315/6315 [==============================] - 3s 444us/step - loss: 2.1029 - acc: 0.1861 - val_loss: 2.1031 - val_acc: 0.1862\n",
            "\n",
            "Epoch 00054: val_loss improved from 2.10324 to 2.10310, saving model to weights.h5\n",
            "Epoch 55/100\n",
            "6315/6315 [==============================] - 3s 443us/step - loss: 2.1028 - acc: 0.1861 - val_loss: 2.1030 - val_acc: 0.1862\n",
            "\n",
            "Epoch 00055: val_loss improved from 2.10310 to 2.10302, saving model to weights.h5\n",
            "Epoch 56/100\n",
            "6315/6315 [==============================] - 3s 444us/step - loss: 2.1026 - acc: 0.1861 - val_loss: 2.1029 - val_acc: 0.1862\n",
            "\n",
            "Epoch 00056: val_loss improved from 2.10302 to 2.10288, saving model to weights.h5\n",
            "Epoch 57/100\n",
            "6315/6315 [==============================] - 3s 444us/step - loss: 2.1025 - acc: 0.1861 - val_loss: 2.1028 - val_acc: 0.1862\n",
            "\n",
            "Epoch 00057: val_loss improved from 2.10288 to 2.10278, saving model to weights.h5\n",
            "Epoch 58/100\n",
            "6315/6315 [==============================] - 3s 445us/step - loss: 2.1024 - acc: 0.1861 - val_loss: 2.1027 - val_acc: 0.1862\n",
            "\n",
            "Epoch 00058: val_loss improved from 2.10278 to 2.10268, saving model to weights.h5\n",
            "Epoch 59/100\n",
            "6315/6315 [==============================] - 3s 444us/step - loss: 2.1023 - acc: 0.1861 - val_loss: 2.1026 - val_acc: 0.1862\n",
            "\n",
            "Epoch 00059: val_loss improved from 2.10268 to 2.10257, saving model to weights.h5\n",
            "Epoch 60/100\n",
            "6315/6315 [==============================] - 3s 446us/step - loss: 2.1022 - acc: 0.1861 - val_loss: 2.1025 - val_acc: 0.1862\n",
            "\n",
            "Epoch 00060: val_loss improved from 2.10257 to 2.10246, saving model to weights.h5\n",
            "Epoch 61/100\n",
            "6315/6315 [==============================] - 3s 445us/step - loss: 2.1021 - acc: 0.1861 - val_loss: 2.1024 - val_acc: 0.1862\n",
            "\n",
            "Epoch 00061: val_loss improved from 2.10246 to 2.10238, saving model to weights.h5\n",
            "Epoch 62/100\n",
            "6315/6315 [==============================] - 3s 445us/step - loss: 2.1020 - acc: 0.1861 - val_loss: 2.1023 - val_acc: 0.1862\n",
            "\n",
            "Epoch 00062: val_loss improved from 2.10238 to 2.10230, saving model to weights.h5\n",
            "Epoch 63/100\n",
            "6315/6315 [==============================] - 3s 444us/step - loss: 2.1020 - acc: 0.1861 - val_loss: 2.1022 - val_acc: 0.1862\n",
            "\n",
            "Epoch 00063: val_loss improved from 2.10230 to 2.10222, saving model to weights.h5\n",
            "Epoch 64/100\n",
            "6315/6315 [==============================] - 3s 445us/step - loss: 2.1019 - acc: 0.1861 - val_loss: 2.1022 - val_acc: 0.1862\n",
            "\n",
            "Epoch 00064: val_loss improved from 2.10222 to 2.10215, saving model to weights.h5\n",
            "Epoch 65/100\n",
            "6315/6315 [==============================] - 3s 445us/step - loss: 2.1018 - acc: 0.1861 - val_loss: 2.1021 - val_acc: 0.1862\n",
            "\n",
            "Epoch 00065: val_loss improved from 2.10215 to 2.10210, saving model to weights.h5\n",
            "Epoch 66/100\n",
            "6315/6315 [==============================] - 3s 445us/step - loss: 2.1017 - acc: 0.1861 - val_loss: 2.1020 - val_acc: 0.1862\n",
            "\n",
            "Epoch 00066: val_loss improved from 2.10210 to 2.10204, saving model to weights.h5\n",
            "Epoch 67/100\n",
            "6315/6315 [==============================] - 3s 445us/step - loss: 2.1017 - acc: 0.1861 - val_loss: 2.1020 - val_acc: 0.1862\n",
            "\n",
            "Epoch 00067: val_loss improved from 2.10204 to 2.10200, saving model to weights.h5\n",
            "Epoch 68/100\n",
            "6315/6315 [==============================] - 3s 443us/step - loss: 2.1017 - acc: 0.1861 - val_loss: 2.1020 - val_acc: 0.1862\n",
            "\n",
            "Epoch 00068: val_loss improved from 2.10200 to 2.10196, saving model to weights.h5\n",
            "Epoch 69/100\n",
            "6315/6315 [==============================] - 3s 444us/step - loss: 2.1017 - acc: 0.1861 - val_loss: 2.1019 - val_acc: 0.1862\n",
            "\n",
            "Epoch 00069: val_loss improved from 2.10196 to 2.10193, saving model to weights.h5\n",
            "Epoch 70/100\n",
            "6315/6315 [==============================] - 3s 444us/step - loss: 2.1016 - acc: 0.1861 - val_loss: 2.1019 - val_acc: 0.1862\n",
            "\n",
            "Epoch 00070: val_loss improved from 2.10193 to 2.10188, saving model to weights.h5\n",
            "Epoch 71/100\n",
            "6315/6315 [==============================] - 3s 444us/step - loss: 2.1015 - acc: 0.1861 - val_loss: 2.1018 - val_acc: 0.1862\n",
            "\n",
            "Epoch 00071: val_loss improved from 2.10188 to 2.10185, saving model to weights.h5\n",
            "Epoch 72/100\n",
            "6315/6315 [==============================] - 3s 444us/step - loss: 2.1015 - acc: 0.1861 - val_loss: 2.1018 - val_acc: 0.1862\n",
            "\n",
            "Epoch 00072: val_loss improved from 2.10185 to 2.10181, saving model to weights.h5\n",
            "Epoch 73/100\n",
            "6315/6315 [==============================] - 3s 443us/step - loss: 2.1015 - acc: 0.1861 - val_loss: 2.1018 - val_acc: 0.1862\n",
            "\n",
            "Epoch 00073: val_loss improved from 2.10181 to 2.10178, saving model to weights.h5\n",
            "Epoch 74/100\n",
            "6315/6315 [==============================] - 3s 444us/step - loss: 2.1014 - acc: 0.1861 - val_loss: 2.1018 - val_acc: 0.1862\n",
            "\n",
            "Epoch 00074: val_loss improved from 2.10178 to 2.10175, saving model to weights.h5\n",
            "Epoch 75/100\n",
            "6315/6315 [==============================] - 3s 445us/step - loss: 2.1014 - acc: 0.1861 - val_loss: 2.1017 - val_acc: 0.1862\n",
            "\n",
            "Epoch 00075: val_loss improved from 2.10175 to 2.10173, saving model to weights.h5\n",
            "Epoch 76/100\n",
            "6315/6315 [==============================] - 3s 444us/step - loss: 2.1014 - acc: 0.1861 - val_loss: 2.1017 - val_acc: 0.1862\n",
            "\n",
            "Epoch 00076: val_loss improved from 2.10173 to 2.10170, saving model to weights.h5\n",
            "Epoch 77/100\n",
            "6315/6315 [==============================] - 3s 443us/step - loss: 2.1014 - acc: 0.1861 - val_loss: 2.1017 - val_acc: 0.1862\n",
            "\n",
            "Epoch 00077: val_loss improved from 2.10170 to 2.10167, saving model to weights.h5\n",
            "Epoch 78/100\n",
            "6315/6315 [==============================] - 3s 445us/step - loss: 2.1013 - acc: 0.1861 - val_loss: 2.1016 - val_acc: 0.1862\n",
            "\n",
            "Epoch 00078: val_loss improved from 2.10167 to 2.10165, saving model to weights.h5\n",
            "Epoch 79/100\n",
            "6315/6315 [==============================] - 3s 444us/step - loss: 2.1013 - acc: 0.1861 - val_loss: 2.1016 - val_acc: 0.1862\n",
            "\n",
            "Epoch 00079: val_loss improved from 2.10165 to 2.10161, saving model to weights.h5\n",
            "Epoch 80/100\n",
            "6315/6315 [==============================] - 3s 445us/step - loss: 2.1013 - acc: 0.1861 - val_loss: 2.1016 - val_acc: 0.1862\n",
            "\n",
            "Epoch 00080: val_loss improved from 2.10161 to 2.10159, saving model to weights.h5\n",
            "Epoch 81/100\n",
            "6315/6315 [==============================] - 3s 445us/step - loss: 2.1013 - acc: 0.1861 - val_loss: 2.1016 - val_acc: 0.1862\n",
            "\n",
            "Epoch 00081: val_loss did not improve from 2.10159\n",
            "Epoch 82/100\n",
            "6315/6315 [==============================] - 3s 443us/step - loss: 2.1013 - acc: 0.1861 - val_loss: 2.1016 - val_acc: 0.1862\n",
            "\n",
            "Epoch 00082: val_loss improved from 2.10159 to 2.10157, saving model to weights.h5\n",
            "Epoch 83/100\n",
            "6315/6315 [==============================] - 3s 446us/step - loss: 2.1012 - acc: 0.1861 - val_loss: 2.1016 - val_acc: 0.1862\n",
            "\n",
            "Epoch 00083: val_loss improved from 2.10157 to 2.10155, saving model to weights.h5\n",
            "Epoch 84/100\n",
            "6315/6315 [==============================] - 3s 446us/step - loss: 2.1012 - acc: 0.1861 - val_loss: 2.1015 - val_acc: 0.1862\n",
            "\n",
            "Epoch 00084: val_loss improved from 2.10155 to 2.10155, saving model to weights.h5\n",
            "Epoch 85/100\n",
            "6315/6315 [==============================] - 3s 445us/step - loss: 2.1012 - acc: 0.1861 - val_loss: 2.1015 - val_acc: 0.1862\n",
            "\n",
            "Epoch 00085: val_loss improved from 2.10155 to 2.10154, saving model to weights.h5\n",
            "Epoch 86/100\n",
            "6315/6315 [==============================] - 3s 445us/step - loss: 2.1012 - acc: 0.1861 - val_loss: 2.1015 - val_acc: 0.1862\n",
            "\n",
            "Epoch 00086: val_loss improved from 2.10154 to 2.10154, saving model to weights.h5\n",
            "Epoch 87/100\n",
            "6315/6315 [==============================] - 3s 445us/step - loss: 2.1012 - acc: 0.1861 - val_loss: 2.1015 - val_acc: 0.1862\n",
            "\n",
            "Epoch 00087: val_loss improved from 2.10154 to 2.10153, saving model to weights.h5\n",
            "Epoch 88/100\n",
            "6315/6315 [==============================] - 3s 444us/step - loss: 2.1012 - acc: 0.1861 - val_loss: 2.1015 - val_acc: 0.1862\n",
            "\n",
            "Epoch 00088: val_loss improved from 2.10153 to 2.10151, saving model to weights.h5\n",
            "Epoch 89/100\n",
            "6315/6315 [==============================] - 3s 444us/step - loss: 2.1012 - acc: 0.1861 - val_loss: 2.1015 - val_acc: 0.1862\n",
            "\n",
            "Epoch 00089: val_loss improved from 2.10151 to 2.10150, saving model to weights.h5\n",
            "Epoch 90/100\n",
            "6315/6315 [==============================] - 3s 445us/step - loss: 2.1011 - acc: 0.1861 - val_loss: 2.1015 - val_acc: 0.1862\n",
            "\n",
            "Epoch 00090: val_loss improved from 2.10150 to 2.10148, saving model to weights.h5\n",
            "Epoch 91/100\n",
            "6315/6315 [==============================] - 3s 445us/step - loss: 2.1011 - acc: 0.1861 - val_loss: 2.1015 - val_acc: 0.1862\n",
            "\n",
            "Epoch 00091: val_loss improved from 2.10148 to 2.10147, saving model to weights.h5\n",
            "Epoch 92/100\n",
            "6315/6315 [==============================] - 3s 446us/step - loss: 2.1011 - acc: 0.1861 - val_loss: 2.1015 - val_acc: 0.1862\n",
            "\n",
            "Epoch 00092: val_loss improved from 2.10147 to 2.10147, saving model to weights.h5\n",
            "Epoch 93/100\n",
            "6315/6315 [==============================] - 3s 444us/step - loss: 2.1011 - acc: 0.1861 - val_loss: 2.1015 - val_acc: 0.1862\n",
            "\n",
            "Epoch 00093: val_loss improved from 2.10147 to 2.10146, saving model to weights.h5\n",
            "Epoch 94/100\n",
            "6315/6315 [==============================] - 3s 445us/step - loss: 2.1011 - acc: 0.1861 - val_loss: 2.1014 - val_acc: 0.1862\n",
            "\n",
            "Epoch 00094: val_loss improved from 2.10146 to 2.10144, saving model to weights.h5\n",
            "Epoch 95/100\n",
            "6315/6315 [==============================] - 3s 444us/step - loss: 2.1011 - acc: 0.1861 - val_loss: 2.1014 - val_acc: 0.1862\n",
            "\n",
            "Epoch 00095: val_loss improved from 2.10144 to 2.10143, saving model to weights.h5\n",
            "Epoch 96/100\n",
            "6315/6315 [==============================] - 3s 444us/step - loss: 2.1011 - acc: 0.1861 - val_loss: 2.1014 - val_acc: 0.1862\n",
            "\n",
            "Epoch 00096: val_loss improved from 2.10143 to 2.10142, saving model to weights.h5\n",
            "Epoch 97/100\n",
            "6315/6315 [==============================] - 3s 444us/step - loss: 2.1011 - acc: 0.1861 - val_loss: 2.1014 - val_acc: 0.1862\n",
            "\n",
            "Epoch 00097: val_loss improved from 2.10142 to 2.10142, saving model to weights.h5\n",
            "Epoch 98/100\n",
            "6315/6315 [==============================] - 3s 443us/step - loss: 2.1011 - acc: 0.1861 - val_loss: 2.1014 - val_acc: 0.1862\n",
            "\n",
            "Epoch 00098: val_loss improved from 2.10142 to 2.10142, saving model to weights.h5\n",
            "Epoch 99/100\n",
            "6315/6315 [==============================] - 3s 445us/step - loss: 2.1011 - acc: 0.1861 - val_loss: 2.1014 - val_acc: 0.1862\n",
            "\n",
            "Epoch 00099: val_loss did not improve from 2.10142\n",
            "Epoch 100/100\n",
            "6315/6315 [==============================] - 3s 444us/step - loss: 2.1011 - acc: 0.1861 - val_loss: 2.1014 - val_acc: 0.1862\n",
            "\n",
            "Epoch 00100: val_loss did not improve from 2.10142\n"
          ],
          "name": "stdout"
        }
      ]
    },
    {
      "cell_type": "code",
      "metadata": {
        "id": "JphbD-oeLsk8",
        "colab_type": "code",
        "outputId": "f58782ab-8f9b-4d81-965a-c25fca193418",
        "colab": {
          "base_uri": "https://localhost:8080/",
          "height": 570
        }
      },
      "source": [
        "plt.plot(hist.history['acc'])\n",
        "plt.plot(hist.history['val_acc'])\n",
        "plt.ylabel('acurácia')\n",
        "plt.xlabel('época')\n",
        "plt.legend(['treino', 'validação'], loc = 'upper left')\n",
        "plt.show()\n",
        "\n",
        "plt.plot(hist.history['loss'])\n",
        "plt.plot(hist.history['val_loss'])\n",
        "plt.ylabel('loss')\n",
        "plt.xlabel('época')"
      ],
      "execution_count": 35,
      "outputs": [
        {
          "output_type": "display_data",
          "data": {
            "image/png": "[encoded data removed]",
            "text/plain": [
              "<Figure size 432x288 with 1 Axes>"
            ]
          },
          "metadata": {
            "tags": []
          }
        },
        {
          "output_type": "execute_result",
          "data": {
            "text/plain": [
              "Text(0.5, 0, 'época')"
            ]
          },
          "metadata": {
            "tags": []
          },
          "execution_count": 35
        },
        {
          "output_type": "display_data",
          "data": {
            "image/png": "[encoded data removed]",
            "text/plain": [
              "<Figure size 432x288 with 1 Axes>"
            ]
          },
          "metadata": {
            "tags": []
          }
        }
      ]
    }
  ]
}